{
 "cells": [
  {
   "cell_type": "code",
   "execution_count": 10,
   "id": "black-syntax",
   "metadata": {},
   "outputs": [],
   "source": [
    "import tensorflow as tf \n",
    "import cv2\n",
    "from flask import Flask \n",
    "import pickle\n",
    "model =  pickle.load(open(\"model.pickle\", 'rb'))\n"
   ]
  },
  {
   "cell_type": "code",
   "execution_count": null,
   "id": "maritime-tactics",
   "metadata": {},
   "outputs": [
    {
     "name": "stdout",
     "output_type": "stream",
     "text": [
      " * Serving Flask app '__main__' (lazy loading)\n",
      " * Environment: production\n",
      "   WARNING: This is a development server. Do not use it in a production deployment.\n",
      "   Use a production WSGI server instead.\n",
      " * Debug mode: off\n"
     ]
    },
    {
     "name": "stderr",
     "output_type": "stream",
     "text": [
      " * Running on all addresses.\n",
      "   WARNING: This is a development server. Do not use it in a production deployment.\n",
      " * Running on http://192.168.8.133:5000/ (Press CTRL+C to quit)\n",
      "192.168.8.133 - - [25/Aug/2021 20:29:51] \"GET / HTTP/1.1\" 200 -\n",
      "192.168.8.133 - - [25/Aug/2021 20:29:59] \"GET /one HTTP/1.1\" 200 -\n",
      "192.168.8.133 - - [25/Aug/2021 20:35:59] \"GET /predict HTTP/1.1\" 405 -\n"
     ]
    }
   ],
   "source": [
    "\n",
    "\n",
    "# the sever stuff \n",
    "\n",
    "app = Flask(__name__)\n",
    "\n",
    "\n",
    "@app.route('/')\n",
    "def hello_world():\n",
    "    return \"Project FOOOON!\"\n",
    "\n",
    "\n",
    "@app.route('/one')\n",
    "def hello_one():\n",
    "    return \"We Just Want Passs!\"\n",
    "\n",
    "@app.route(\"/predict\", methods = [\"Post\"])\n",
    "def predict():\n",
    "    value = request.form['value']\n",
    "    img = cv2.imread(value)\n",
    "    img = cv2.cvtColor(img, cv2.COLOR_RGB2BGR)\n",
    "    img = cv2.resize(img, (256,256))\n",
    "    plt.imshow(img)\n",
    "    plt.show()\n",
    "    \n",
    "  \n",
    "    X = image.img_to_array(img)\n",
    "    X = np.expand_dims(X,axis = 0)  \n",
    "    img= np.vstack([X])\n",
    "    \n",
    "    \n",
    "    val = model.predict(img)\n",
    "    val = tf.nn.softmax(val)\n",
    "    val = np.argmax(val)\n",
    "    return val\n",
    "\n",
    "if __name__ == \"__main__\":\n",
    "    app.run(host = \"0.0.0.0\")\n"
   ]
  },
  {
   "cell_type": "code",
   "execution_count": 9,
   "id": "fabulous-arthritis",
   "metadata": {},
   "outputs": [
    {
     "data": {
      "text/plain": [
       "'C:\\\\Users\\\\Harold Ekow Eshun\\\\Documents\\\\P_work\\\\Working_model'"
      ]
     },
     "execution_count": 9,
     "metadata": {},
     "output_type": "execute_result"
    }
   ],
   "source": [
    "pwd"
   ]
  },
  {
   "cell_type": "code",
   "execution_count": null,
   "id": "durable-weekly",
   "metadata": {},
   "outputs": [],
   "source": []
  },
  {
   "cell_type": "code",
   "execution_count": null,
   "id": "correct-spank",
   "metadata": {},
   "outputs": [],
   "source": []
  }
 ],
 "metadata": {
  "kernelspec": {
   "display_name": "Python 3",
   "language": "python",
   "name": "python3"
  },
  "language_info": {
   "codemirror_mode": {
    "name": "ipython",
    "version": 3
   },
   "file_extension": ".py",
   "mimetype": "text/x-python",
   "name": "python",
   "nbconvert_exporter": "python",
   "pygments_lexer": "ipython3",
   "version": "3.8.5"
  }
 },
 "nbformat": 4,
 "nbformat_minor": 5
}
