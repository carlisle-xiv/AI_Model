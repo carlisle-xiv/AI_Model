{
 "cells": [
  {
   "cell_type": "code",
   "execution_count": 59,
   "id": "hungry-signal",
   "metadata": {},
   "outputs": [],
   "source": [
    "import tensorflow as tf\n",
    "from tensorflow import keras\n",
    "import numpy as np\n",
    "import matplotlib.pyplot as plt\n",
    "from keras.models import Sequential \n",
    "from keras.layers import Conv2D\n",
    "from keras.layers import MaxPooling2D\n",
    "from keras.layers import Dense \n",
    "from keras.layers import Flatten\n",
    "from keras.layers import Dropout\n",
    "from keras.preprocessing.image import ImageDataGenerator\n",
    "from keras.preprocessing import image\n"
   ]
  },
  {
   "cell_type": "code",
   "execution_count": 60,
   "id": "inclusive-birmingham",
   "metadata": {},
   "outputs": [
    {
     "data": {
      "text/plain": [
       "'C:\\\\Users\\\\Harold Ekow Eshun\\\\Documents\\\\Project'"
      ]
     },
     "execution_count": 60,
     "metadata": {},
     "output_type": "execute_result"
    }
   ],
   "source": [
    "pwd"
   ]
  },
  {
   "cell_type": "code",
   "execution_count": 61,
   "id": "equal-spine",
   "metadata": {
    "scrolled": true
   },
   "outputs": [
    {
     "name": "stdout",
     "output_type": "stream",
     "text": [
      "Found 6012 images belonging to 6 classes.\n"
     ]
    }
   ],
   "source": [
    " train_datagen =ImageDataGenerator( rescale = 1/255,\n",
    "                                  shear_range = 0.2,\n",
    "                                  zoom_range = 0.2,\n",
    "                                 horizontal_flip = True)\n",
    "\n",
    "train_images = train_datagen.flow_from_directory(\"C:\\\\Users\\\\Harold Ekow Eshun\\\\Documents\\\\Project\\\\Training_set\",\n",
    "                            target_size = (64,64),\n",
    "                            batch_size = 32,\n",
    "                            class_mode = \"binary\")                    \n",
    "                                        "
   ]
  },
  {
   "cell_type": "code",
   "execution_count": 62,
   "id": "august-encoding",
   "metadata": {},
   "outputs": [
    {
     "data": {
      "text/plain": [
       "{'Low_concentration': 0,\n",
       " 'heated_high_conc': 1,\n",
       " 'heated_low_conc': 2,\n",
       " 'heated_pure_oil': 3,\n",
       " 'high_concentraion': 4,\n",
       " 'pure_oil_at_room_temperature': 5}"
      ]
     },
     "execution_count": 62,
     "metadata": {},
     "output_type": "execute_result"
    }
   ],
   "source": [
    "train_images.class_indices"
   ]
  },
  {
   "cell_type": "code",
   "execution_count": 63,
   "id": "united-mason",
   "metadata": {},
   "outputs": [
    {
     "name": "stdout",
     "output_type": "stream",
     "text": [
      "Found 120 images belonging to 6 classes.\n"
     ]
    }
   ],
   "source": [
    "test_datagen = ImageDataGenerator( rescale = 1/255)\n",
    "test_images = train_datagen.flow_from_directory(\"C:\\\\Users\\\\Harold Ekow Eshun\\\\Documents\\\\Project\\\\Testing_set\",\n",
    "                            target_size = (64,64),\n",
    "                            batch_size = 32,\n",
    "                            class_mode = \"binary\")                    \n",
    "                                        "
   ]
  },
  {
   "cell_type": "code",
   "execution_count": 64,
   "id": "sudden-sunglasses",
   "metadata": {},
   "outputs": [],
   "source": [
    "model = Sequential()\n",
    "\n",
    "model.add(Conv2D(32, (3,3),input_shape = (64, 64, 3), activation = \"relu\"))\n",
    "model.add(Conv2D(64, (3,3), activation = \"relu\"))\n",
    "model.add(Conv2D(128, (3,3), activation = \"relu\"))\n",
    "\n",
    "model.add(MaxPooling2D(2,2))\n",
    "model.add(MaxPooling2D(2,2))\n",
    "model.add(MaxPooling2D(2,2))\n",
    "\n",
    "model.add(Flatten(input_shape = (28,28)))\n",
    "\n",
    "model.add(Dense(512, activation = \"relu\"))\n",
    "model.add(Dense(128, activation = \"relu\"))\n",
    "model.add(Dense(10, activation = \"softmax\"))\n",
    "\n",
    "model.add(Dropout(0.5))\n",
    "model.add(Dropout(0.5))"
   ]
  },
  {
   "cell_type": "code",
   "execution_count": 65,
   "id": "acting-treasurer",
   "metadata": {},
   "outputs": [],
   "source": [
    "model.compile(loss = \"binary_crossentropy\",\n",
    "             optimizer = \"adam\",\n",
    "             metrics = [\"accuracy\"])"
   ]
  },
  {
   "cell_type": "code",
   "execution_count": 69,
   "id": "vulnerable-wiring",
   "metadata": {},
   "outputs": [
    {
     "name": "stdout",
     "output_type": "stream",
     "text": [
      "Epoch 1/10\n",
      "100/100 [==============================] - ETA: 0s - loss: 29.7751 - accuracy: 0.1142WARNING:tensorflow:Your input ran out of data; interrupting training. Make sure that your dataset or generator can generate at least `steps_per_epoch * epochs` batches (in this case, 10 batches). You may need to use the repeat() function when building your dataset.\n",
      "100/100 [==============================] - 819s 8s/step - loss: 29.7751 - accuracy: 0.1142 - val_loss: 5.5994 - val_accuracy: 0.0000e+00\n",
      "Epoch 2/10\n",
      "100/100 [==============================] - 788s 8s/step - loss: 28.6304 - accuracy: 0.0610\n",
      "Epoch 3/10\n",
      "100/100 [==============================] - 722s 7s/step - loss: 28.9102 - accuracy: 0.0838\n",
      "Epoch 4/10\n",
      "100/100 [==============================] - 750s 7s/step - loss: 28.6188 - accuracy: 0.0923\n",
      "Epoch 5/10\n",
      "100/100 [==============================] - 718s 7s/step - loss: 29.6287 - accuracy: 0.0862\n",
      "Epoch 6/10\n",
      "100/100 [==============================] - 718s 7s/step - loss: 29.1159 - accuracy: 0.0735\n",
      "Epoch 7/10\n",
      "100/100 [==============================] - 6504s 65s/step - loss: 29.0966 - accuracy: 0.0900\n",
      "Epoch 8/10\n",
      "100/100 [==============================] - 1162s 12s/step - loss: 29.1779 - accuracy: 0.1150\n",
      "Epoch 9/10\n",
      "100/100 [==============================] - 1199s 12s/step - loss: 29.4022 - accuracy: 0.1053\n",
      "Epoch 10/10\n",
      "100/100 [==============================] - 860s 9s/step - loss: 29.6150 - accuracy: 0.1161\n"
     ]
    },
    {
     "data": {
      "text/plain": [
       "<tensorflow.python.keras.callbacks.History at 0x1d18fa651f0>"
      ]
     },
     "execution_count": 69,
     "metadata": {},
     "output_type": "execute_result"
    }
   ],
   "source": [
    "model.fit(train_images,\n",
    "                   steps_per_epoch = 100,\n",
    "                   epochs = 10,\n",
    "                   validation_data = test_images,\n",
    "                   validation_steps = 10)"
   ]
  },
  {
   "cell_type": "code",
   "execution_count": 50,
   "id": "engaged-breakfast",
   "metadata": {},
   "outputs": [
    {
     "data": {
      "text/plain": [
       "'C:\\\\Users\\\\Harold Ekow Eshun\\\\Documents\\\\Project'"
      ]
     },
     "execution_count": 50,
     "metadata": {},
     "output_type": "execute_result"
    }
   ],
   "source": [
    "pwd"
   ]
  },
  {
   "cell_type": "code",
   "execution_count": 25,
   "id": "blond-georgia",
   "metadata": {},
   "outputs": [],
   "source": [
    "predictions = model.predict()"
   ]
  },
  {
   "cell_type": "code",
   "execution_count": 51,
   "id": "similar-vaccine",
   "metadata": {},
   "outputs": [
    {
     "ename": "PermissionError",
     "evalue": "[Errno 13] Permission denied: 'C:\\\\Users\\\\Harold Ekow Eshun\\\\Documents\\\\Project\\\\prediction'",
     "output_type": "error",
     "traceback": [
      "\u001b[1;31m---------------------------------------------------------------------------\u001b[0m",
      "\u001b[1;31mPermissionError\u001b[0m                           Traceback (most recent call last)",
      "\u001b[1;32m<ipython-input-51-7f9802805ede>\u001b[0m in \u001b[0;36m<module>\u001b[1;34m\u001b[0m\n\u001b[1;32m----> 1\u001b[1;33m \u001b[0mtest_image\u001b[0m \u001b[1;33m=\u001b[0m \u001b[0mimage\u001b[0m\u001b[1;33m.\u001b[0m\u001b[0mload_img\u001b[0m\u001b[1;33m(\u001b[0m\u001b[1;34m\"C:\\\\Users\\\\Harold Ekow Eshun\\\\Documents\\\\Project\\\\prediction\"\u001b[0m\u001b[1;33m)\u001b[0m\u001b[1;33m\u001b[0m\u001b[1;33m\u001b[0m\u001b[0m\n\u001b[0m\u001b[0;32m      2\u001b[0m \u001b[0mtest_image\u001b[0m \u001b[1;33m=\u001b[0m \u001b[0mimage\u001b[0m\u001b[1;33m.\u001b[0m\u001b[0mimg_to_array\u001b[0m\u001b[1;33m(\u001b[0m\u001b[0mtest_image\u001b[0m\u001b[1;33m)\u001b[0m\u001b[1;33m\u001b[0m\u001b[1;33m\u001b[0m\u001b[0m\n\u001b[0;32m      3\u001b[0m \u001b[0mtest_image\u001b[0m \u001b[1;33m=\u001b[0m \u001b[0mnp\u001b[0m\u001b[1;33m.\u001b[0m\u001b[0mexpand_dims\u001b[0m\u001b[1;33m(\u001b[0m\u001b[0mtest_image\u001b[0m\u001b[1;33m,\u001b[0m \u001b[0maxis\u001b[0m \u001b[1;33m=\u001b[0m \u001b[1;36m0\u001b[0m\u001b[1;33m)\u001b[0m\u001b[1;33m\u001b[0m\u001b[1;33m\u001b[0m\u001b[0m\n\u001b[0;32m      4\u001b[0m \u001b[0mresult\u001b[0m \u001b[1;33m=\u001b[0m \u001b[0mmodel\u001b[0m\u001b[1;33m.\u001b[0m\u001b[0mpredict\u001b[0m\u001b[1;33m(\u001b[0m\u001b[0mtest_image\u001b[0m\u001b[1;33m)\u001b[0m\u001b[1;33m\u001b[0m\u001b[1;33m\u001b[0m\u001b[0m\n\u001b[0;32m      5\u001b[0m \u001b[0mtrain_images\u001b[0m\u001b[1;33m.\u001b[0m\u001b[0mclass_indicies\u001b[0m\u001b[1;33m\u001b[0m\u001b[1;33m\u001b[0m\u001b[0m\n",
      "\u001b[1;32m~\\anaconda3\\envs\\tensorflowpy\\lib\\site-packages\\tensorflow\\python\\keras\\preprocessing\\image.py\u001b[0m in \u001b[0;36mload_img\u001b[1;34m(path, grayscale, color_mode, target_size, interpolation)\u001b[0m\n\u001b[0;32m    298\u001b[0m       \u001b[0mValueError\u001b[0m\u001b[1;33m:\u001b[0m \u001b[1;32mif\u001b[0m \u001b[0minterpolation\u001b[0m \u001b[0mmethod\u001b[0m \u001b[1;32mis\u001b[0m \u001b[1;32mnot\u001b[0m \u001b[0msupported\u001b[0m\u001b[1;33m.\u001b[0m\u001b[1;33m\u001b[0m\u001b[1;33m\u001b[0m\u001b[0m\n\u001b[0;32m    299\u001b[0m   \"\"\"\n\u001b[1;32m--> 300\u001b[1;33m   return image.load_img(path, grayscale=grayscale, color_mode=color_mode,\n\u001b[0m\u001b[0;32m    301\u001b[0m                         target_size=target_size, interpolation=interpolation)\n\u001b[0;32m    302\u001b[0m \u001b[1;33m\u001b[0m\u001b[0m\n",
      "\u001b[1;32m~\\anaconda3\\envs\\tensorflowpy\\lib\\site-packages\\keras_preprocessing\\image\\utils.py\u001b[0m in \u001b[0;36mload_img\u001b[1;34m(path, grayscale, color_mode, target_size, interpolation)\u001b[0m\n\u001b[0;32m    108\u001b[0m         raise ImportError('Could not import PIL.Image. '\n\u001b[0;32m    109\u001b[0m                           'The use of `load_img` requires PIL.')\n\u001b[1;32m--> 110\u001b[1;33m     \u001b[0mimg\u001b[0m \u001b[1;33m=\u001b[0m \u001b[0mpil_image\u001b[0m\u001b[1;33m.\u001b[0m\u001b[0mopen\u001b[0m\u001b[1;33m(\u001b[0m\u001b[0mpath\u001b[0m\u001b[1;33m)\u001b[0m\u001b[1;33m\u001b[0m\u001b[1;33m\u001b[0m\u001b[0m\n\u001b[0m\u001b[0;32m    111\u001b[0m     \u001b[1;32mif\u001b[0m \u001b[0mcolor_mode\u001b[0m \u001b[1;33m==\u001b[0m \u001b[1;34m'grayscale'\u001b[0m\u001b[1;33m:\u001b[0m\u001b[1;33m\u001b[0m\u001b[1;33m\u001b[0m\u001b[0m\n\u001b[0;32m    112\u001b[0m         \u001b[1;32mif\u001b[0m \u001b[0mimg\u001b[0m\u001b[1;33m.\u001b[0m\u001b[0mmode\u001b[0m \u001b[1;33m!=\u001b[0m \u001b[1;34m'L'\u001b[0m\u001b[1;33m:\u001b[0m\u001b[1;33m\u001b[0m\u001b[1;33m\u001b[0m\u001b[0m\n",
      "\u001b[1;32m~\\anaconda3\\envs\\tensorflowpy\\lib\\site-packages\\PIL\\Image.py\u001b[0m in \u001b[0;36mopen\u001b[1;34m(fp, mode, formats)\u001b[0m\n\u001b[0;32m   2902\u001b[0m \u001b[1;33m\u001b[0m\u001b[0m\n\u001b[0;32m   2903\u001b[0m     \u001b[1;32mif\u001b[0m \u001b[0mfilename\u001b[0m\u001b[1;33m:\u001b[0m\u001b[1;33m\u001b[0m\u001b[1;33m\u001b[0m\u001b[0m\n\u001b[1;32m-> 2904\u001b[1;33m         \u001b[0mfp\u001b[0m \u001b[1;33m=\u001b[0m \u001b[0mbuiltins\u001b[0m\u001b[1;33m.\u001b[0m\u001b[0mopen\u001b[0m\u001b[1;33m(\u001b[0m\u001b[0mfilename\u001b[0m\u001b[1;33m,\u001b[0m \u001b[1;34m\"rb\"\u001b[0m\u001b[1;33m)\u001b[0m\u001b[1;33m\u001b[0m\u001b[1;33m\u001b[0m\u001b[0m\n\u001b[0m\u001b[0;32m   2905\u001b[0m         \u001b[0mexclusive_fp\u001b[0m \u001b[1;33m=\u001b[0m \u001b[1;32mTrue\u001b[0m\u001b[1;33m\u001b[0m\u001b[1;33m\u001b[0m\u001b[0m\n\u001b[0;32m   2906\u001b[0m \u001b[1;33m\u001b[0m\u001b[0m\n",
      "\u001b[1;31mPermissionError\u001b[0m: [Errno 13] Permission denied: 'C:\\\\Users\\\\Harold Ekow Eshun\\\\Documents\\\\Project\\\\prediction'"
     ]
    }
   ],
   "source": [
    "test_image = image.load_img(\"C:\\\\Users\\\\Harold Ekow Eshun\\\\Documents\\\\Project\\\\prediction\")\n",
    "test_image = image.img_to_array(test_image)\n",
    "test_image = np.expand_dims(test_image, axis = 0)\n",
    "result = model.predict(test_image)\n",
    "train_images.class_indicies\n",
    "\n",
    "# if result[0][0] == 0:\n",
    "#     prediction = \"High_conc\"\n",
    "# else if results[0][0] == 1:\n",
    "#         prediction = \"heated_oil_high_conc\"\n",
    "# else if results[0][0] == 2:\n",
    "#         prediction = \"heated_oil_low_conc\"\n",
    "# else if results[0][0] == 3:\n",
    "#         prediction = \"heated_pure_oil\"\n",
    "# else if results[0][0] == 4:\n",
    "#         prediction = \"low_conc\"\n",
    "# else if results[0][0] == 5:\n",
    "#         prediction = \"pure_oil\"\n",
    "    \n"
   ]
  },
  {
   "cell_type": "code",
   "execution_count": 27,
   "id": "copyrighted-skating",
   "metadata": {},
   "outputs": [
    {
     "data": {
      "text/plain": [
       "7"
      ]
     },
     "execution_count": 27,
     "metadata": {},
     "output_type": "execute_result"
    }
   ],
   "source": [
    "np.argmax(predictions[0])"
   ]
  },
  {
   "cell_type": "code",
   "execution_count": 36,
   "id": "extended-dress",
   "metadata": {},
   "outputs": [
    {
     "name": "stdout",
     "output_type": "stream",
     "text": [
      "('Failed to import pydot. You must `pip install pydot` and install graphviz (https://graphviz.gitlab.io/download/), ', 'for `pydotprint` to work.')\n",
      "('Failed to import pydot. You must `pip install pydot` and install graphviz (https://graphviz.gitlab.io/download/), ', 'for `pydotprint` to work.')\n"
     ]
    }
   ],
   "source": [
    "tf.keras.utils.plot_model(\n",
    "    model,\n",
    "    to_file='model.png',\n",
    "    show_shapes=False,\n",
    "    show_layer_names=True,\n",
    "    rankdir='TB'\n",
    ")\n",
    "tf.keras.utils.plot_model(model, to_file='model.pdf')"
   ]
  },
  {
   "cell_type": "code",
   "execution_count": 52,
   "id": "attached-origin",
   "metadata": {},
   "outputs": [],
   "source": [
    "model_1 = tf.keras.applications.EfficientNetB7()"
   ]
  },
  {
   "cell_type": "code",
   "execution_count": 53,
   "id": "relative-mercury",
   "metadata": {},
   "outputs": [],
   "source": [
    "model_1.compile(loss = \"binary_crossentropy\",\n",
    "             optimizer = \"adam\",\n",
    "             metrics = [\"accuracy\"])"
   ]
  },
  {
   "cell_type": "code",
   "execution_count": 54,
   "id": "funny-honor",
   "metadata": {
    "scrolled": true
   },
   "outputs": [
    {
     "name": "stdout",
     "output_type": "stream",
     "text": [
      "Epoch 1/10\n",
      "5/5 [==============================] - 102s 20s/step - loss: 11.9202 - accuracy: 0.0000e+00 - val_loss: 18.5528 - val_accuracy: 0.0000e+00\n",
      "Epoch 2/10\n",
      "5/5 [==============================] - 72s 14s/step - loss: 10.2827 - accuracy: 0.0000e+00 - val_loss: 18.2033 - val_accuracy: 0.0000e+00\n",
      "Epoch 3/10\n",
      "5/5 [==============================] - 94s 19s/step - loss: 10.8275 - accuracy: 0.0000e+00 - val_loss: 18.4910 - val_accuracy: 0.0000e+00\n",
      "Epoch 4/10\n",
      "5/5 [==============================] - 81s 16s/step - loss: 10.8570 - accuracy: 0.0000e+00 - val_loss: 17.9228 - val_accuracy: 0.0000e+00\n",
      "Epoch 5/10\n",
      "5/5 [==============================] - 104s 21s/step - loss: 9.9146 - accuracy: 0.0069 - val_loss: 18.0475 - val_accuracy: 0.0000e+00\n",
      "Epoch 6/10\n",
      "5/5 [==============================] - 99s 20s/step - loss: 10.3491 - accuracy: 0.0000e+00 - val_loss: 18.3505 - val_accuracy: 0.0000e+00\n",
      "Epoch 7/10\n",
      "5/5 [==============================] - 113s 23s/step - loss: 9.7549 - accuracy: 0.0000e+00 - val_loss: 17.1234 - val_accuracy: 0.0000e+00\n",
      "Epoch 8/10\n",
      "5/5 [==============================] - 101s 20s/step - loss: 10.5225 - accuracy: 0.0000e+00 - val_loss: 17.4103 - val_accuracy: 0.0000e+00\n",
      "Epoch 9/10\n",
      "5/5 [==============================] - 109s 22s/step - loss: 10.7169 - accuracy: 0.0000e+00 - val_loss: 16.3794 - val_accuracy: 0.0000e+00\n",
      "Epoch 10/10\n",
      "5/5 [==============================] - 102s 20s/step - loss: 10.1615 - accuracy: 0.0000e+00 - val_loss: 17.4317 - val_accuracy: 0.0000e+00\n"
     ]
    },
    {
     "data": {
      "text/plain": [
       "<tensorflow.python.keras.callbacks.History at 0x1d18f6cd970>"
      ]
     },
     "execution_count": 54,
     "metadata": {},
     "output_type": "execute_result"
    }
   ],
   "source": [
    "model_1.fit(train_images,\n",
    "                   steps_per_epoch = 5,\n",
    "                   epochs = 10,\n",
    "                   validation_data = test_images,\n",
    "                   validation_steps = 2)"
   ]
  },
  {
   "cell_type": "code",
   "execution_count": 56,
   "id": "bearing-defense",
   "metadata": {},
   "outputs": [
    {
     "name": "stdout",
     "output_type": "stream",
     "text": [
      "Epoch 1/15\n",
      "5/5 [==============================] - 79s 16s/step - loss: 16.7519 - accuracy: 0.0347 - val_loss: 5.8046 - val_accuracy: 0.2031\n",
      "Epoch 2/15\n",
      "5/5 [==============================] - 71s 14s/step - loss: 17.9813 - accuracy: 0.1111 - val_loss: 5.2209 - val_accuracy: 0.1406\n",
      "Epoch 3/15\n",
      "5/5 [==============================] - 76s 15s/step - loss: 17.5227 - accuracy: 0.0562 - val_loss: 5.8047 - val_accuracy: 0.2031\n",
      "Epoch 4/15\n",
      "5/5 [==============================] - 76s 15s/step - loss: 16.9876 - accuracy: 0.0625 - val_loss: 5.5645 - val_accuracy: 0.2344\n",
      "Epoch 5/15\n",
      "5/5 [==============================] - 76s 15s/step - loss: 16.9311 - accuracy: 0.0875 - val_loss: 6.0109 - val_accuracy: 0.1719\n",
      "Epoch 6/15\n",
      "5/5 [==============================] - 78s 16s/step - loss: 17.4093 - accuracy: 0.0764 - val_loss: 5.2906 - val_accuracy: 0.1875\n",
      "Epoch 7/15\n",
      "5/5 [==============================] - 73s 15s/step - loss: 17.9464 - accuracy: 0.0764 - val_loss: 5.3253 - val_accuracy: 0.1406\n",
      "Epoch 8/15\n",
      "5/5 [==============================] - 73s 15s/step - loss: 16.5363 - accuracy: 0.0556 - val_loss: 5.4968 - val_accuracy: 0.0938\n",
      "Epoch 9/15\n",
      "5/5 [==============================] - 74s 15s/step - loss: 16.5500 - accuracy: 0.0694 - val_loss: 5.1533 - val_accuracy: 0.0781\n",
      "Epoch 10/15\n",
      "5/5 [==============================] - 77s 15s/step - loss: 18.8289 - accuracy: 0.0694 - val_loss: 5.8743 - val_accuracy: 0.0000e+00\n",
      "Epoch 11/15\n",
      "5/5 [==============================] - 79s 16s/step - loss: 18.2715 - accuracy: 0.0347 - val_loss: 5.9089 - val_accuracy: 0.0000e+00\n",
      "Epoch 12/15\n",
      "5/5 [==============================] - 83s 17s/step - loss: 17.9773 - accuracy: 0.0694 - val_loss: 5.3950 - val_accuracy: 0.1719\n",
      "Epoch 13/15\n",
      "5/5 [==============================] - 85s 17s/step - loss: 18.4450 - accuracy: 0.0938 - val_loss: 4.9830 - val_accuracy: 0.0625\n",
      "Epoch 14/15\n",
      "5/5 [==============================] - 79s 16s/step - loss: 18.4605 - accuracy: 0.0764 - val_loss: 5.7034 - val_accuracy: 0.0000e+00\n",
      "Epoch 15/15\n",
      "5/5 [==============================] - 77s 15s/step - loss: 19.0899 - accuracy: 0.0833 - val_loss: 5.2563 - val_accuracy: 0.0469\n"
     ]
    }
   ],
   "source": [
    "history = model.fit(train_images,\n",
    "                   steps_per_epoch = 5,\n",
    "                   epochs = 15,\n",
    "                   validation_data = test_images,\n",
    "                   validation_steps = 2)"
   ]
  },
  {
   "cell_type": "code",
   "execution_count": 57,
   "id": "chief-thread",
   "metadata": {},
   "outputs": [
    {
     "data": {
      "text/plain": [
       "dict_keys(['loss', 'accuracy', 'val_loss', 'val_accuracy'])"
      ]
     },
     "execution_count": 57,
     "metadata": {},
     "output_type": "execute_result"
    }
   ],
   "source": [
    "history.history.keys()"
   ]
  },
  {
   "cell_type": "code",
   "execution_count": 58,
   "id": "serious-therapist",
   "metadata": {},
   "outputs": [
    {
     "ename": "TypeError",
     "evalue": "'dict' object is not callable",
     "output_type": "error",
     "traceback": [
      "\u001b[1;31m---------------------------------------------------------------------------\u001b[0m",
      "\u001b[1;31mTypeError\u001b[0m                                 Traceback (most recent call last)",
      "\u001b[1;32m<ipython-input-58-35d7a1635afa>\u001b[0m in \u001b[0;36m<module>\u001b[1;34m\u001b[0m\n\u001b[1;32m----> 1\u001b[1;33m \u001b[0mplt\u001b[0m\u001b[1;33m.\u001b[0m\u001b[0mplot\u001b[0m\u001b[1;33m(\u001b[0m\u001b[0mhistory\u001b[0m\u001b[1;33m.\u001b[0m\u001b[0mhistory\u001b[0m\u001b[1;33m(\u001b[0m\u001b[1;33m[\u001b[0m\u001b[1;34m\"accuracy\"\u001b[0m\u001b[1;33m]\u001b[0m\u001b[1;33m)\u001b[0m\u001b[1;33m)\u001b[0m\u001b[1;33m\u001b[0m\u001b[1;33m\u001b[0m\u001b[0m\n\u001b[0m\u001b[0;32m      2\u001b[0m \u001b[0mplt\u001b[0m\u001b[1;33m.\u001b[0m\u001b[0mtitle\u001b[0m\u001b[1;33m(\u001b[0m\u001b[1;34m\"Model Accuracy\"\u001b[0m\u001b[1;33m)\u001b[0m\u001b[1;33m\u001b[0m\u001b[1;33m\u001b[0m\u001b[0m\n\u001b[0;32m      3\u001b[0m \u001b[0mplt\u001b[0m\u001b[1;33m.\u001b[0m\u001b[0mylabel\u001b[0m\u001b[1;33m(\u001b[0m\u001b[1;34m\"acuracy\"\u001b[0m\u001b[1;33m)\u001b[0m\u001b[1;33m\u001b[0m\u001b[1;33m\u001b[0m\u001b[0m\n\u001b[0;32m      4\u001b[0m \u001b[0mplt\u001b[0m\u001b[1;33m.\u001b[0m\u001b[0mxlabel\u001b[0m\u001b[1;33m(\u001b[0m\u001b[1;34m\"epochs\"\u001b[0m\u001b[1;33m)\u001b[0m\u001b[1;33m\u001b[0m\u001b[1;33m\u001b[0m\u001b[0m\n\u001b[0;32m      5\u001b[0m \u001b[0mplt\u001b[0m\u001b[1;33m.\u001b[0m\u001b[0mlegend\u001b[0m\u001b[1;33m(\u001b[0m\u001b[1;33m[\u001b[0m\u001b[1;34m\"Train\"\u001b[0m\u001b[1;33m]\u001b[0m\u001b[1;33m,\u001b[0m \u001b[0mloc\u001b[0m \u001b[1;33m=\u001b[0m \u001b[1;34m\"Upper Left\"\u001b[0m\u001b[1;33m)\u001b[0m\u001b[1;33m\u001b[0m\u001b[1;33m\u001b[0m\u001b[0m\n",
      "\u001b[1;31mTypeError\u001b[0m: 'dict' object is not callable"
     ]
    }
   ],
   "source": [
    "plt.plot(history.history([\"accuracy\"]))\n",
    "plt.title(\"Model Accuracy\")\n",
    "plt.ylabel(\"acuracy\")\n",
    "plt.xlabel(\"epochs\")\n",
    "plt.legend([\"Train\"], loc = \"Upper Left\")\n",
    "plt.show()"
   ]
  },
  {
   "cell_type": "code",
   "execution_count": null,
   "id": "pregnant-royalty",
   "metadata": {},
   "outputs": [],
   "source": []
  }
 ],
 "metadata": {
  "kernelspec": {
   "display_name": "Python 3",
   "language": "python",
   "name": "python3"
  },
  "language_info": {
   "codemirror_mode": {
    "name": "ipython",
    "version": 3
   },
   "file_extension": ".py",
   "mimetype": "text/x-python",
   "name": "python",
   "nbconvert_exporter": "python",
   "pygments_lexer": "ipython3",
   "version": "3.8.5"
  }
 },
 "nbformat": 4,
 "nbformat_minor": 5
}
